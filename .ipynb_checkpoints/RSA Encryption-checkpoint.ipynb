{
 "cells": [
  {
   "cell_type": "markdown",
   "metadata": {},
   "source": [
    "# Modular Arithmetic"
   ]
  },
  {
   "cell_type": "markdown",
   "metadata": {},
   "source": [
    "In encryption, modular arithmetic plays a big role. What is modular arithmetic?\n",
    "\n",
    "You can think of it as \"wrapping around\". For example, think about a clock. If you have a clock, it goes from 1, 2, ... to 12, then back to 1. This is when everything is \"modulo 12\". So 12 is the increment by which you wrap around.\n",
    "\n",
    "You can also think of it as remainders. This means that 12 is also equivalent to 0, because the remainder of 12 divided by 12 is 0. Let's say you start at midnight or 0 o' clock. In 13 hours, it is 1 pm because the remainder of 13 divided by 12 is 1. \n",
    "\n",
    "Of course, this only applies to integers. From this moment onwards, assume all variables are integers.\n",
    "\n",
    "To be more formal, $x \\text{ mod } m$ \"$x$ modulo $m$\" to be the remainder $r$ when we divide $x$ by $m$. This means that $x$ is of the form $qm + r$ where $q$ is the quotient and $r$ is the remainder. We also normally restrict $r$ to be in the range $0 \\leq r \\leq m - 1$ if we are modding by $m$. For example, $13 \\text{ mod } 12 \\equiv 1 \\text{ mod } 12 \\equiv 25 \\text{ mod } 12$. \n",
    "\n",
    "The $\\equiv$ symbol is called \"equivalent\" and exists because it doesn't mean \"equal\". Instead, it means that they are equivalent in the world of mod 12. We say that $x$ and $y$ are $\\textit{congruent modulo m}$ if they differ by a multiple of $m$. \n",
    "\n",
    "Also, in math, instead of writing $\\text{ mod } 12$ multiple times, it is usually written just once on the very right side. So, this is valid as well: $13 \\equiv 1 \\equiv 25 \\text{ mod } 12$. \n",
    "\n",
    "In python, mods appear as %. Run the following block by typing shift enter to see what it prints out."
   ]
  },
  {
   "cell_type": "code",
   "execution_count": 2,
   "metadata": {},
   "outputs": [
    {
     "name": "stdout",
     "output_type": "stream",
     "text": [
      "1\n",
      "2\n",
      "1\n"
     ]
    }
   ],
   "source": [
    "x = 10 % 3\n",
    "print(x)\n",
    "\n",
    "y = 11 % 3\n",
    "print(y)\n",
    "\n",
    "z = 100 % 3\n",
    "print(z)"
   ]
  },
  {
   "cell_type": "markdown",
   "metadata": {},
   "source": [
    "# Properties"
   ]
  },
  {
   "cell_type": "markdown",
   "metadata": {},
   "source": [
    "If $a \\equiv c (\\text{mod } m)$ and $b \\equiv d (\\text{mod } m)$, then $a+b \\equiv c+d (\\text{mod } m)$\n",
    "\n",
    "$\\textit{Proof: }$ We know that numbers that are equivalent mod $m$ must differ in multiples of $m$. Therefore, $c = a+km$ and $d = b+lm$, meaning $c+d = a+km+b+lm = a+b+(k+l)m$ which means that $a+b \\equiv c+d (\\text{mod } m)$\n",
    "\n",
    "If $a \\equiv c (\\text{mod } m)$ and $b \\equiv d (\\text{mod } m)$, then $ab \\equiv cd (\\text{mod } m)$\n",
    "\n",
    "$\\textit{Proof: }$ Once again, we know that $c = a+km$ and $d = b+lm$. This means $cd = (a + km)(b + lm) = ab + alm + bkm + lkm^2$, meaning $ab \\equiv cd (\\text{mod } m)$.\n",
    "\n",
    "This means that addition, subtraction (which is adding negative numbers) and multiplication of two numbers $x$ and $y$ then modded can be done more easily by computing the mods first, ($x \\text{ mod } m $ and $y \\text{ mod } m$) and then applying the operation. For example, $(13+11)\\cdot 18 \\equiv (6 + 4) \\cdot 4 \\text{ mod } 7$. If you are still confused or don't believe it, you can run the block below and experiment by writing your own python code. But what about division? "
   ]
  },
  {
   "cell_type": "code",
   "execution_count": 4,
   "metadata": {},
   "outputs": [
    {
     "name": "stdout",
     "output_type": "stream",
     "text": [
      "6\n",
      "4\n",
      "4\n",
      "5\n",
      "5\n"
     ]
    }
   ],
   "source": [
    "print(13 % 7)\n",
    "print(11 % 7)\n",
    "print(18 % 7)\n",
    "print(((13 + 11) * 18) % 7)\n",
    "print(((6 + 4) * 4) % 7)"
   ]
  },
  {
   "cell_type": "markdown",
   "metadata": {},
   "source": [
    "# Inverses"
   ]
  },
  {
   "cell_type": "markdown",
   "metadata": {},
   "source": [
    "Recall that this world of mods only applies to integers. If you arbitrarily tried to divide, like $2/3$ for instance, we would break out of the world of integers, and we don't want to do that. \n",
    "\n",
    "Think of how you try to find inverses before. If you want to find the additive inverse of a number $x$, then your goal is to \"reverse\" adding $x$ back to the previous state. Let us say $y$ is the additive inverse. Then, $x + y = 0$ in order to reverse adding $x$. From this, you can solve that $y = -x$. \n",
    "\n",
    "Now, let us say the multiplicative inverse of $x$ is $y$. If you want to find the multiplicative inverse of $x$, then $xy = 1 \\implies y = 1/x$. The reason why $xy = 1$ is because that is how you can \"undo\" multiplying $x$.\n",
    "\n",
    "But what if we want the multiplicative inverse of $x$ modulo $m$? Then, we want $xy \\equiv 1 \\text{ mod } m $. \n",
    "\n",
    "Division is then multiplying by the multiplicative inverse. \n",
    "\n",
    "For example, let us say we are trying to solve 8$x \\equiv$ 9 (mod 15). We can then multiply both sides by $8^{-1}$ mod 15. The inverse is 2 because 8(2) $\\equiv$ 16 $\\equiv$ 1 mod 15. This yields 18 mod 15 $\\equiv$ 3 mod 15, meaning $x = 3$. To do a quick check, we know that 8 $\\cdot$ 3 = 24 $\\equiv$ 9 mod 15.\n",
    "\n",
    "Does the multiplicative inverse always exist? Let's try finding a few.\n",
    "\n",
    "If it exists, then we know that there exists an inverse $y$ in the range $0 \\leq y \\leq m - 1$ because of the multiplicative property mentioned before. \n",
    "\n",
    "If $x=8$ and $m=15$, we know $2x = 16 \\equiv 1 (\\text{ mod } 15)$, so 2 is a multiplicative inverse of 8 mod 15.\n",
    "\n",
    "If $x = 12$ and $m = 15$, hmm... There's a problem. The sequence $ax$ mod $m$ for a = 1,2,3,... is periodic, and takes on the values (12,9,6,3,0,12,9,6...). We never hit the number $1$ because it keeps cycling by the number 3. Interestingly enough, 3 is also the GCD of 12 and 15. Is that a coincidence?\n",
    "\n",
    "It turns out, the multiplicative inverse of $x$ mod $m$ only exists if the GCD of $x$ and $m$ is 1. Recall that the greatest common divisor of two natural numbers $x$ and $y$, denoted gcd($x,y$), is the largest natural number that divides them both.\n",
    "\n",
    "But how do we compute the inverse? Or how do we even know inverse exists? Then you can use the Euclidean Algorithm."
   ]
  },
  {
   "cell_type": "markdown",
   "metadata": {},
   "source": [
    "# Euclidean Algorithm"
   ]
  },
  {
   "cell_type": "markdown",
   "metadata": {},
   "source": [
    "The Euclidean Algorithm actually computes the greatest common denominator. It relies on one major fact: \n",
    " \n",
    " $$gcd(x, y) = gcd(y, x \\text{ mod } y)$$\n",
    " \n",
    "The theorem follows immediately from the fact that a number $d$ is a common divisor of $x$ and $y$ if and only if $d$ is a common divisor of $y$ and $x$ mod $y$. \n",
    "\n",
    "To see this, we know that $x = qy + r$ and $r = x$ mod $y$. Then, if $d$ divides $x$ and $y$ then it also divides $x$ and $qy$, and thus it also divides their difference $r = x − qy$. \n",
    "\n",
    "In the block below is the code for the Euclidean Algorithm. But this still doesn't solve for the inverse. To do that, we need the Extended Euclidean Algorithm."
   ]
  },
  {
   "cell_type": "code",
   "execution_count": 5,
   "metadata": {},
   "outputs": [],
   "source": [
    "def gcd(a, b):\n",
    "    if a > b:\n",
    "        a, b = b, a\n",
    "    if a == 0: \n",
    "        return b  \n",
    "    return gcd(b%a, a)"
   ]
  },
  {
   "cell_type": "markdown",
   "metadata": {},
   "source": [
    "# Extended Euclidean Algorithm"
   ]
  },
  {
   "cell_type": "markdown",
   "metadata": {},
   "source": [
    "What the Extended Euclidean Algorithm does is that it solves for the coefficients $x$ and $y$ such that $ax + by = gcd(a, b)$.\n",
    "\n",
    "It's easiest to understand the Extended Euclidean Algorithm by taking a look at it in action. \n",
    "$$\\begin{align*}\n",
    "gcd(16, 10) &= gcd(10, 6), 16 = 10 * 1 + 6\\\\\n",
    "&= gcd(6, 4), 10 = 6 * 1 + 4\\\\\n",
    "&= gcd(4, 2), 6 = 4 * 1 + 2\\\\\n",
    "&=gcd(2,0), 4 = 2 * 2 + 0 \\\\\n",
    "&=2\n",
    "\\end{align*}$$\n",
    "which means $d = 2$.\n",
    "\n",
    "Reverse engineering this, we get that:\n",
    "$$\\begin{align*}\n",
    "d &= 1 * 2 + 0 \\\\\n",
    "&= 0 * 4 + 1 * 2 \\\\\n",
    "&= 1 * 6 + (-1) * 4 \\\\\n",
    "&= (-1) * 10 + 2 * 6 \\\\\n",
    "&= 2 * 16 - 3 * 10\n",
    "\\end{align*}$$\n",
    "\n",
    "The code is as follows:"
   ]
  },
  {
   "cell_type": "code",
   "execution_count": 11,
   "metadata": {},
   "outputs": [],
   "source": [
    "def extended_gcd(x,y):\n",
    "    if y == 0:\n",
    "        return(x, 1, 0)\n",
    "    else:\n",
    "        (d, a, b) = extended_gcd(y, x % y)\n",
    "    return((d, b, a - (x//y) * b))"
   ]
  },
  {
   "cell_type": "markdown",
   "metadata": {},
   "source": [
    "Don't worry if you don't understand this. You can simply use this for the next two exercises."
   ]
  },
  {
   "cell_type": "markdown",
   "metadata": {},
   "source": [
    "# Affine Cipher"
   ]
  },
  {
   "cell_type": "markdown",
   "metadata": {},
   "source": [
    "Let us say you have an alphabet with $m$ letters. The alphabet is first mapped to the integers in the range 0 to m − 1. \n",
    "\n",
    "The encryption function is $\\displaystyle {\\mbox{E}}(x)=(ax+b){\\bmod {m}}$ if $x$ if your original letter. The only catch is that $a$ and $m$ have to be coprime (have GCD of 1).\n",
    "\n",
    "The decryption function is $\\displaystyle {\\mbox{D}}(y)=a^{-1}(y-b){\\bmod {m}}$ where $y$ is the encrypted letter.\n",
    "\n",
    "Write the encryption and decryption functions in python below:"
   ]
  },
  {
   "cell_type": "code",
   "execution_count": null,
   "metadata": {},
   "outputs": [],
   "source": [
    "def encrypt_affine(x):\n",
    "    \n",
    "def decrypt_affine(y):\n",
    "    "
   ]
  },
  {
   "cell_type": "markdown",
   "metadata": {},
   "source": [
    "# RSA Encryption"
   ]
  },
  {
   "cell_type": "markdown",
   "metadata": {},
   "source": [
    "The problem with the Affine Cipher is that it requires both the sender and receiver to know what $a$ and $b$ are in order to encrypt and decrypt. Is there a way for someone to send a message completely encrypted without even knowing the same amount of knowledge as the decrypter?\n",
    "\n",
    "It turns out, there is! \n",
    "\n",
    "Let $p$ and $q$ be two large primes and $N = pq$. Let $e$ be any number that is relatively prime to $(p−1)(q−1)$.\n",
    "\n",
    "$(N, e)$ is public. Everyone knows it. However, $(p, q)$ are private. \n",
    "\n",
    "$E(x) = x^e \\bmod N$\n",
    "\n",
    "$D(y) = y^d \\bmod N$\n",
    "\n",
    "It turns out, $D(y) = x$. (The proof is long and complicated.) \n",
    "\n",
    "Write the encryption and decryption functions in python below:"
   ]
  },
  {
   "cell_type": "code",
   "execution_count": null,
   "metadata": {},
   "outputs": [],
   "source": [
    "def encrypt_affine(x):\n",
    "    \n",
    "def decrypt_affine(y):\n",
    "    "
   ]
  }
 ],
 "metadata": {
  "kernelspec": {
   "display_name": "Python 3",
   "language": "python",
   "name": "python3"
  },
  "language_info": {
   "codemirror_mode": {
    "name": "ipython",
    "version": 3
   },
   "file_extension": ".py",
   "mimetype": "text/x-python",
   "name": "python",
   "nbconvert_exporter": "python",
   "pygments_lexer": "ipython3",
   "version": "3.7.1"
  }
 },
 "nbformat": 4,
 "nbformat_minor": 2
}
